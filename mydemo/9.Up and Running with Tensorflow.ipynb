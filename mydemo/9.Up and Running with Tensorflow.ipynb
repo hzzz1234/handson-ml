{
 "cells": [
  {
   "cell_type": "code",
   "execution_count": 1,
   "metadata": {},
   "outputs": [],
   "source": [
    "import warnings\n",
    "warnings.filterwarnings(\"ignore\")"
   ]
  },
  {
   "cell_type": "markdown",
   "metadata": {},
   "source": [
    "# Neural Network and Deep Learning"
   ]
  },
  {
   "cell_type": "markdown",
   "metadata": {},
   "source": [
    "## Up and Running with TensorFlow"
   ]
  },
  {
   "cell_type": "markdown",
   "metadata": {},
   "source": [
    "<img src=\"./pic/a-simple-computation-graph.png\" height=\"200\" width=\"300\" align=\"left\"></img>"
   ]
  },
  {
   "cell_type": "code",
   "execution_count": 2,
   "metadata": {},
   "outputs": [],
   "source": [
    "import tensorflow as tf"
   ]
  },
  {
   "cell_type": "code",
   "execution_count": 3,
   "metadata": {},
   "outputs": [],
   "source": [
    "# 定义图\n",
    "x = tf.Variable(3,name=\"x\")\n",
    "y = tf.Variable(4,name=\"y\")\n",
    "f = x*x*y + y + 2"
   ]
  },
  {
   "cell_type": "code",
   "execution_count": 4,
   "metadata": {},
   "outputs": [
    {
     "name": "stdout",
     "output_type": "stream",
     "text": [
      "42\n"
     ]
    }
   ],
   "source": [
    "# 运行图\n",
    "sess = tf.Session()\n",
    "sess.run(x.initializer)\n",
    "sess.run(y.initializer)\n",
    "result = sess.run(f)\n",
    "print(result)"
   ]
  },
  {
   "cell_type": "code",
   "execution_count": 5,
   "metadata": {},
   "outputs": [],
   "source": [
    "with tf.Session() as sess:\n",
    "    x.initializer.run() # = tf.get_default_session().run(x.initalizer)\n",
    "    y.initializer.run()\n",
    "    result = f.eval() # = tf.get_default_session().run(f)"
   ]
  },
  {
   "cell_type": "code",
   "execution_count": 8,
   "metadata": {},
   "outputs": [],
   "source": [
    "init = tf.global_variables_initializer() #创建一个执行所有初始化操作的节点\n",
    "with tf.Session() as sess:\n",
    "    init.run() #运行初始化节点\n",
    "    result = f.eval() # = tf.get_default_session().run(f)"
   ]
  },
  {
   "cell_type": "markdown",
   "metadata": {},
   "source": [
    "InteractiveSession"
   ]
  },
  {
   "cell_type": "code",
   "execution_count": 9,
   "metadata": {},
   "outputs": [
    {
     "name": "stdout",
     "output_type": "stream",
     "text": [
      "42\n"
     ]
    }
   ],
   "source": [
    "sess = tf.InteractiveSession()\n",
    "init.run()\n",
    "result = f.eval()\n",
    "print(result)\n",
    "sess.close()"
   ]
  },
  {
   "cell_type": "markdown",
   "metadata": {},
   "source": [
    "### Managing Graphs"
   ]
  },
  {
   "cell_type": "code",
   "execution_count": 11,
   "metadata": {},
   "outputs": [
    {
     "data": {
      "text/plain": [
       "True"
      ]
     },
     "execution_count": 11,
     "metadata": {},
     "output_type": "execute_result"
    }
   ],
   "source": [
    "#任何创建的节点都会自动归入默认图\n",
    "x1 = tf.Variable(1)\n",
    "x1.graph is tf.get_default_graph()"
   ]
  },
  {
   "cell_type": "markdown",
   "metadata": {},
   "source": [
    "###### 多图管理"
   ]
  },
  {
   "cell_type": "code",
   "execution_count": 13,
   "metadata": {},
   "outputs": [
    {
     "name": "stdout",
     "output_type": "stream",
     "text": [
      "True\n",
      "False\n"
     ]
    }
   ],
   "source": [
    "graph = tf.Graph()\n",
    "with graph.as_default():\n",
    "    x2 = tf.Variable(2)\n",
    "print(x2.graph is graph)\n",
    "print(x2.graph is tf.get_default_graph())"
   ]
  },
  {
   "cell_type": "code",
   "execution_count": 14,
   "metadata": {},
   "outputs": [],
   "source": [
    "###注意点:对于jupyter可能产生多次执行问题，最终得到包含了很多重复节点的图。\n",
    "###比重启更好的方法是重置默认图tf.reset_default_graph()"
   ]
  },
  {
   "cell_type": "code",
   "execution_count": 17,
   "metadata": {},
   "outputs": [
    {
     "name": "stdout",
     "output_type": "stream",
     "text": [
      "10\n",
      "15\n",
      "10\n",
      "15\n"
     ]
    }
   ],
   "source": [
    "w = tf.constant(3)\n",
    "x = w + 2\n",
    "y = x + 5\n",
    "z = x * 3\n",
    "# tf会根据依赖关系优先w和x再执行y,然后再更具依赖关系执行执行w和x再执行z;(w和x被执行了2次)\n",
    "# tf在执行run后会抛弃所有节点，除了variable,它会一直被维护在跨图运行的session中，\n",
    "# variable的生命周期开始于初始化，结束语session的close\n",
    "with tf.Session() as sess:\n",
    "    print(y_val)\n",
    "    print(z_val)\n",
    "\n",
    "# 更有效的写法\n",
    "with tf.Session() as sess:\n",
    "    y_val, z_val = sess.run([y,z])\n",
    "    print(y_val)\n",
    "    print(z_val)"
   ]
  },
  {
   "cell_type": "markdown",
   "metadata": {},
   "source": [
    "###### tips:在单个tensorflow进程里，多个session不共享状态，即使是使用相同图，每个session都会有它自己的copy。分布式的变量状态存储在servers上，而不在session中，多个session可以共享。"
   ]
  },
  {
   "cell_type": "markdown",
   "metadata": {},
   "source": [
    "### tf线性回归\n",
    "###### 正规方程"
   ]
  },
  {
   "cell_type": "code",
   "execution_count": 18,
   "metadata": {},
   "outputs": [
    {
     "name": "stderr",
     "output_type": "stream",
     "text": [
      "Downloading Cal. housing from https://ndownloader.figshare.com/files/5976036 to /Users/zhen.huaz/scikit_learn_data\n"
     ]
    }
   ],
   "source": [
    "from sklearn.datasets import fetch_california_housing\n",
    "\n",
    "housing = fetch_california_housing()\n",
    "m, n = housing.data.shape"
   ]
  },
  {
   "cell_type": "code",
   "execution_count": 22,
   "metadata": {},
   "outputs": [],
   "source": [
    "housing_data_plus_bias = np.c_[np.ones((m,1)),housing.data]"
   ]
  },
  {
   "cell_type": "code",
   "execution_count": 29,
   "metadata": {},
   "outputs": [
    {
     "name": "stdout",
     "output_type": "stream",
     "text": [
      "[[ -3.74651413e+01]\n",
      " [  4.35734153e-01]\n",
      " [  9.33829229e-03]\n",
      " [ -1.06622010e-01]\n",
      " [  6.44106984e-01]\n",
      " [ -4.25131839e-06]\n",
      " [ -3.77322501e-03]\n",
      " [ -4.26648885e-01]\n",
      " [ -4.40514028e-01]]\n"
     ]
    }
   ],
   "source": [
    "X = tf.constant(housing_data_plus_bias,dtype=tf.float32,name=\"X\")\n",
    "y = tf.constant(housing.target.reshape(-1,1),dtype=tf.float32,name=\"y\")\n",
    "XT = tf.transpose(X)\n",
    "theta = tf.matmul(tf.matmul(tf.matrix_inverse(tf.matmul(XT,X)),XT),y)\n",
    "\n",
    "with tf.Session() as sess:\n",
    "    theta_value = theta.eval()\n",
    "    print(sess.run(theta))"
   ]
  },
  {
   "cell_type": "markdown",
   "metadata": {},
   "source": [
    "###### 梯度下降法"
   ]
  },
  {
   "cell_type": "code",
   "execution_count": 41,
   "metadata": {},
   "outputs": [
    {
     "name": "stdout",
     "output_type": "stream",
     "text": [
      "[  1.00000000e+00   6.60969987e-17   5.50808322e-18   6.60969987e-17\n",
      "  -1.06030602e-16  -1.10161664e-17   3.44255201e-18  -1.07958431e-15\n",
      "  -8.52651283e-15]\n",
      "[ 0.38915536  0.36424355  0.5116157  ..., -0.06612179 -0.06360587\n",
      "  0.01359031]\n",
      "0.111111111111\n",
      "(20640, 9)\n"
     ]
    }
   ],
   "source": [
    "from sklearn.preprocessing import StandardScaler\n",
    "scaler = StandardScaler()\n",
    "scaled_housing_data = scaler.fit_transform(housing.data)\n",
    "scaled_housing_data_plus_bias = np.c_[np.ones((m, 1)), scaled_housing_data]\n",
    "print(scaled_housing_data_plus_bias.mean(axis=0))\n",
    "print(scaled_housing_data_plus_bias.mean(axis=1))\n",
    "print(scaled_housing_data_plus_bias.mean())\n",
    "print(scaled_housing_data_plus_bias.shape)"
   ]
  },
  {
   "cell_type": "code",
   "execution_count": 45,
   "metadata": {},
   "outputs": [
    {
     "name": "stdout",
     "output_type": "stream",
     "text": [
      "Epoch 0 MSE =  2.75443\n",
      "Epoch 100 MSE =  0.632222\n",
      "Epoch 200 MSE =  0.57278\n",
      "Epoch 300 MSE =  0.558501\n",
      "Epoch 400 MSE =  0.549069\n",
      "Epoch 500 MSE =  0.542288\n",
      "Epoch 600 MSE =  0.537379\n",
      "Epoch 700 MSE =  0.533822\n",
      "Epoch 800 MSE =  0.531243\n",
      "Epoch 900 MSE =  0.529371\n"
     ]
    },
    {
     "data": {
      "text/plain": [
       "array([[  2.06855226e+00],\n",
       "       [  7.74078071e-01],\n",
       "       [  1.31192386e-01],\n",
       "       [ -1.17845111e-01],\n",
       "       [  1.64778173e-01],\n",
       "       [  7.44084362e-04],\n",
       "       [ -3.91945168e-02],\n",
       "       [ -8.61356556e-01],\n",
       "       [ -8.23479652e-01]], dtype=float32)"
      ]
     },
     "execution_count": 45,
     "metadata": {},
     "output_type": "execute_result"
    }
   ],
   "source": [
    "n_epochs = 1000\n",
    "learning_rate = 0.01\n",
    "\n",
    "X = tf.constant(scaled_housing_data_plus_bias,dtype=tf.float32,name=\"X\")\n",
    "y = tf.constant(housing.target.reshape(-1,1),dtype=tf.float32,name=\"y\")\n",
    "theta = tf.Variable(tf.random_uniform([n + 1, 1],-1.0,1.0,seed=42),name=\"theta\")\n",
    "y_pred = tf.matmul(X, theta, name=\"predictions\")\n",
    "error = y_pred - y\n",
    "mse = tf.reduce_mean(tf.square(error),name=\"mse\")\n",
    "gradients = 2/m * tf.matmul(tf.transpose(X),error)\n",
    "training_op = tf.assign(theta, theta - learning_rate * gradients)\n",
    "\n",
    "init = tf.global_variables_initializer()\n",
    "\n",
    "with tf.Session() as sess:\n",
    "    sess.run(init)\n",
    "    \n",
    "    for epoch in range(n_epochs):\n",
    "        if epoch % 100 == 0:\n",
    "            print(\"Epoch\", epoch, \"MSE = \", mse.eval())\n",
    "        sess.run(training_op)\n",
    "    best_theta = theta\n",
    "    r = theta.eval()\n",
    "r"
   ]
  },
  {
   "cell_type": "markdown",
   "metadata": {},
   "source": [
    "###### using autodiff\n",
    "tf提供了自动高效的计算梯度的方法"
   ]
  },
  {
   "cell_type": "code",
   "execution_count": 55,
   "metadata": {},
   "outputs": [
    {
     "data": {
      "text/plain": [
       "array([ 0.58434588, -0.8888061 ,  0.98923267,  0.80572489, -0.21271437,\n",
       "        0.07939033,  0.26506805,  0.5226235 , -0.13174742,  0.98886718,\n",
       "        1.15235939,  1.30175708, -0.48651095, -0.74862838,  0.74884594,\n",
       "       -0.7613145 ,  0.38705451,  1.06862263, -0.19900075,  0.25828872,\n",
       "        0.16220417,  0.90693196, -1.17076901,  0.86608974,  0.46626157,\n",
       "       -0.40035605, -0.01150335,  0.53446835,  0.68800041, -0.93991925,\n",
       "       -1.87809245, -1.38079079])"
      ]
     },
     "execution_count": 55,
     "metadata": {},
     "output_type": "execute_result"
    }
   ],
   "source": [
    "np.random.randn(32)"
   ]
  },
  {
   "cell_type": "code",
   "execution_count": 56,
   "metadata": {},
   "outputs": [],
   "source": [
    "autogradients = tf.gradients(mse,[theta])[0]\n",
    "auto_training_op = tf.assign(theta, theta - learning_rate * autogradients)"
   ]
  },
  {
   "cell_type": "code",
   "execution_count": 50,
   "metadata": {},
   "outputs": [
    {
     "name": "stdout",
     "output_type": "stream",
     "text": [
      "Epoch 0 MSE =  2.75443\n",
      "Epoch 100 MSE =  0.632222\n",
      "Epoch 200 MSE =  0.57278\n",
      "Epoch 300 MSE =  0.558501\n",
      "Epoch 400 MSE =  0.549069\n",
      "Epoch 500 MSE =  0.542288\n",
      "Epoch 600 MSE =  0.537379\n",
      "Epoch 700 MSE =  0.533822\n",
      "Epoch 800 MSE =  0.531243\n",
      "Epoch 900 MSE =  0.529371\n"
     ]
    },
    {
     "data": {
      "text/plain": [
       "array([[  2.06855249e+00],\n",
       "       [  7.74078071e-01],\n",
       "       [  1.31192386e-01],\n",
       "       [ -1.17845066e-01],\n",
       "       [  1.64778143e-01],\n",
       "       [  7.44078017e-04],\n",
       "       [ -3.91945094e-02],\n",
       "       [ -8.61356676e-01],\n",
       "       [ -8.23479772e-01]], dtype=float32)"
      ]
     },
     "execution_count": 50,
     "metadata": {},
     "output_type": "execute_result"
    }
   ],
   "source": [
    "with tf.Session() as sess:\n",
    "    sess.run(init)\n",
    "    \n",
    "    for epoch in range(n_epochs):\n",
    "        if epoch % 100 == 0:\n",
    "            print(\"Epoch\", epoch, \"MSE = \", mse.eval())\n",
    "        sess.run(auto_training_op)\n",
    "    best_theta = theta\n",
    "    r = theta.eval()\n",
    "r"
   ]
  },
  {
   "cell_type": "markdown",
   "metadata": {},
   "source": [
    "###### using optimizer¶\n",
    "可以直接替代前面的gradients和training_op"
   ]
  },
  {
   "cell_type": "code",
   "execution_count": 65,
   "metadata": {},
   "outputs": [
    {
     "name": "stdout",
     "output_type": "stream",
     "text": [
      "Epoch 0 MSE =  2.75443\n",
      "Epoch 100 MSE =  0.632222\n",
      "Epoch 200 MSE =  0.57278\n",
      "Epoch 300 MSE =  0.558501\n",
      "Epoch 400 MSE =  0.549069\n",
      "Epoch 500 MSE =  0.542288\n",
      "Epoch 600 MSE =  0.537379\n",
      "Epoch 700 MSE =  0.533822\n",
      "Epoch 800 MSE =  0.531243\n",
      "Epoch 900 MSE =  0.529371\n"
     ]
    },
    {
     "data": {
      "text/plain": [
       "array([[  2.06855249e+00],\n",
       "       [  7.74078071e-01],\n",
       "       [  1.31192386e-01],\n",
       "       [ -1.17845066e-01],\n",
       "       [  1.64778143e-01],\n",
       "       [  7.44078017e-04],\n",
       "       [ -3.91945094e-02],\n",
       "       [ -8.61356676e-01],\n",
       "       [ -8.23479772e-01]], dtype=float32)"
      ]
     },
     "execution_count": 65,
     "metadata": {},
     "output_type": "execute_result"
    }
   ],
   "source": [
    "optimizer = tf.train.GradientDescentOptimizer(learning_rate=learning_rate)\n",
    "#相比于上面更快\n",
    "#optimizer = tf.train.MomentumOptimizer(learning_rate=learning_rate,momentum=0.9)\n",
    "optimizer_training_op = optimizer.minimize(mse)\n",
    "with tf.Session() as sess:\n",
    "    sess.run(init)\n",
    "    \n",
    "    for epoch in range(n_epochs):\n",
    "        if epoch % 100 == 0:\n",
    "            print(\"Epoch\", epoch, \"MSE = \", mse.eval())\n",
    "        sess.run(optimizer_training_op)\n",
    "    best_theta = theta\n",
    "    r = theta.eval()\n",
    "r"
   ]
  },
  {
   "cell_type": "markdown",
   "metadata": {},
   "source": [
    "###### feed data"
   ]
  },
  {
   "cell_type": "code",
   "execution_count": 62,
   "metadata": {},
   "outputs": [
    {
     "name": "stdout",
     "output_type": "stream",
     "text": [
      "[[ 6.  7.  8.]]\n",
      "[[  9.  10.  11.]\n",
      " [ 12.  13.  14.]]\n"
     ]
    }
   ],
   "source": [
    "A = tf.placeholder(tf.float32,shape=(None,3))\n",
    "B = A + 5\n",
    "\n",
    "with tf.Session() as sess:\n",
    "    B_val_1 = B.eval(feed_dict={A:[[1,2,3]]})\n",
    "    B_val_2 = B.eval(feed_dict={A:[[4,5,6],[7,8,9]]})\n",
    "    \n",
    "print(B_val_1)\n",
    "print(B_val_2)"
   ]
  },
  {
   "cell_type": "code",
   "execution_count": 63,
   "metadata": {},
   "outputs": [],
   "source": [
    "# X = tf.placeholder(tf.float32,shape=(None,n + 1),name=\"X\")\n",
    "# y = tf.placeholder(tf.float32,shape=(None,1),name=\"y\")\n",
    "\n",
    "# batch_size = 100\n",
    "# n_batches = int(np.ceil(m / batch_size))\n",
    "\n",
    "# def fetch_batch(epoch, batch_index, batch_size):\n",
    "#     [...] #load the data from disk\n",
    "#     return X_batch, y_batch\n",
    "\n",
    "# with tf.Session() as sess:\n",
    "#     sess.run(init)\n",
    "    \n",
    "#     for epoch in range(n_epochs):\n",
    "#         for batch_index in range(n_batches):\n",
    "#             X_batch, y_batch = fetch_batch(epoch, batch_index, batch_size)\n",
    "#             sess.run(training_op,feed_dict={X:X_batch, y: y_batch})\n",
    "#     best_theta = theta.eval()"
   ]
  },
  {
   "cell_type": "markdown",
   "metadata": {},
   "source": [
    "###### Saving and Restoring Models"
   ]
  },
  {
   "cell_type": "code",
   "execution_count": 67,
   "metadata": {},
   "outputs": [],
   "source": [
    "saver = tf.train.Saver()\n",
    "init = tf.global_variables_initializer()\n",
    "with tf.Session() as sess:\n",
    "    sess.run(init)\n",
    "    for epoch in range(n_epochs):\n",
    "        if epoch % 100 == 0:\n",
    "            save_path = saver.save(sess, \"/tmp/my_model.ckpt\")\n",
    "        sess.run(optimizer_training_op)  \n",
    "    best_theta = theta.eval()\n",
    "    save_path = saver.save(sess, \"/tmp/my_model_final.ckpt\")"
   ]
  },
  {
   "cell_type": "code",
   "execution_count": 68,
   "metadata": {},
   "outputs": [
    {
     "name": "stdout",
     "output_type": "stream",
     "text": [
      "INFO:tensorflow:Restoring parameters from /tmp/my_model_final.ckpt\n",
      "Epoch 0 MSE =  0.528011\n",
      "Epoch 100 MSE =  0.527022\n",
      "Epoch 200 MSE =  0.526302\n",
      "Epoch 300 MSE =  0.525778\n",
      "Epoch 400 MSE =  0.525394\n",
      "Epoch 500 MSE =  0.525114\n",
      "Epoch 600 MSE =  0.524909\n",
      "Epoch 700 MSE =  0.524758\n",
      "Epoch 800 MSE =  0.524647\n",
      "Epoch 900 MSE =  0.524566\n"
     ]
    }
   ],
   "source": [
    "#可以用来代替初始化\n",
    "with tf.Session() as sess:\n",
    "    saver.restore(sess,\"/tmp/my_model_final.ckpt\")\n",
    "    for epoch in range(n_epochs):\n",
    "        if epoch % 100 == 0:\n",
    "            print(\"Epoch\", epoch, \"MSE = \", mse.eval())\n",
    "        sess.run(optimizer_training_op)  "
   ]
  },
  {
   "cell_type": "code",
   "execution_count": 69,
   "metadata": {},
   "outputs": [],
   "source": [
    "# saver = tf.train.Saver({\"weights\":theta}) 只保存theta"
   ]
  },
  {
   "cell_type": "markdown",
   "metadata": {},
   "source": [
    "###### 可视化图和训练曲线的DashBoard"
   ]
  },
  {
   "cell_type": "code",
   "execution_count": 74,
   "metadata": {},
   "outputs": [],
   "source": [
    "tf.reset_default_graph()\n",
    "from datetime import datetime\n",
    "\n",
    "n_epochs = 1000\n",
    "learning_rate = 0.01\n",
    "\n",
    "X = tf.constant(scaled_housing_data_plus_bias,dtype=tf.float32,name=\"X\")\n",
    "y = tf.constant(housing.target.reshape(-1,1),dtype=tf.float32,name=\"y\")\n",
    "theta = tf.Variable(tf.random_uniform([n + 1, 1],-1.0,1.0,seed=42),name=\"theta\")\n",
    "y_pred = tf.matmul(X, theta, name=\"predictions\")\n",
    "error = y_pred - y\n",
    "mse = tf.reduce_mean(tf.square(error),name=\"mse\")\n",
    "gradients = 2/m * tf.matmul(tf.transpose(X),error)\n",
    "training_op = tf.assign(theta, theta - learning_rate * gradients)\n",
    "\n",
    "now = datetime.utcnow().strftime(\"%Y%m%d%H%M%S\")\n",
    "root_logdir = \"/tmp/tf_logs\"\n",
    "logdir = \"{}/run-{}/\".format(root_logdir, now)\n",
    "\n",
    "#评估MSE并把它写入TensorBoard兼容的二进制日志文件（tf.summary）\n",
    "mse_summary = tf.summary.scalar(\"MSE\", mse)\n",
    "#创建一个FileWriter用来写入文件，第一个参数时用来写入summaries的目录，第二个是图的可视化\n",
    "file_writer = tf.summary.FileWriter(logdir, tf.get_default_graph())\n",
    "\n",
    "init = tf.global_variables_initializer()\n",
    "\n",
    "with tf.Session() as sess:\n",
    "    sess.run(init)\n",
    "    for epoch in range(n_epochs):\n",
    "        if epoch % 100 == 0:\n",
    "            summary_str = mse_summary.eval()\n",
    "            step = epoch \n",
    "            file_writer.add_summary(summary_str,step)\n",
    "        sess.run(training_op)\n",
    "    file_writer.close()"
   ]
  },
  {
   "cell_type": "code",
   "execution_count": null,
   "metadata": {},
   "outputs": [],
   "source": []
  },
  {
   "cell_type": "markdown",
   "metadata": {},
   "source": [
    "###### Name scopes"
   ]
  },
  {
   "cell_type": "code",
   "execution_count": 79,
   "metadata": {},
   "outputs": [
    {
     "name": "stdout",
     "output_type": "stream",
     "text": [
      "loss_4/sub\n",
      "loss_4/mse\n",
      "loss_4/c\n",
      "loss_4/sub_1\n"
     ]
    }
   ],
   "source": [
    "# 当处理复杂模型的时候，图会变得混乱。\n",
    "with tf.name_scope(\"loss\") as scope:\n",
    "    error = y_pred - y\n",
    "    c = tf.constant(3,name=\"c\")\n",
    "    d = 2 - c\n",
    "    mse = tf.reduce_mean(tf.square(error),name=\"mse\")\n",
    "#使用的时候需要带上命名\n",
    "print(error.op.name)\n",
    "print(mse.op.name)\n",
    "print(c.op.name)\n",
    "print(d.op.name)"
   ]
  },
  {
   "cell_type": "markdown",
   "metadata": {},
   "source": [
    "###### Modularity"
   ]
  },
  {
   "cell_type": "markdown",
   "metadata": {},
   "source": [
    "ReLU公式: $h_{w,b}(X) = max(X*w + b,0)$"
   ]
  },
  {
   "cell_type": "code",
   "execution_count": 80,
   "metadata": {},
   "outputs": [],
   "source": [
    "#code-1\n",
    "n_features = 3\n",
    "X = tf.placeholder(tf.float32, shape = (None, n_features), name = \"X\")\n",
    "# tf.random_normal从正太分布中输出随机值\n",
    "#random_normal(shape,mean=0.0,stddev=1.0,dtype=tf.float32,seed=None,name=None)\n",
    "\n",
    "# tf.random_uniform从均匀分布中输出随机值\n",
    "#返回值的范围默认是0到1的左闭右开区间，即[0，1)。minval为指定最小边界，默认为1。maxval为指定的最大边界，如果是数据浮点型则默认为1，如果数据为整形则必须指定。\n",
    "w1 = tf.Variable(tf.random_normal((n_features, 1)), name = \"weights1\")\n",
    "w2 = tf.Variable(tf.random_normal((n_features, 1)), name = \"weights2\")\n",
    "b1 = tf.Variable(0.0, name = \"bias1\")\n",
    "b2 = tf.Variable(0.0, name = \"bias2\")\n",
    "\n",
    "z1 = tf.add(tf.matmul(X, w1), b1, name = \"z1\")\n",
    "z2 = tf.add(tf.matmul(X, w2), b2, name = \"z2\")\n",
    "relu1 = tf.maximum(z1, 0 , name = \"relu1\")\n",
    "relu2 = tf.maximum(z2, 0 , name = \"relu2\")\n",
    "\n",
    "output = tf.add(relu1, relu2 , name=\"output\")\n",
    "\n",
    "#code-2\n",
    "# 对于名字tf会对存在的名字自增，如weights第二次的名字未weights_1\n",
    "def relu(X):\n",
    "    w_shape = (int(X.get_shape()[1]), 1)\n",
    "    w = tf.Variable(tf.random_normal(w_shape), name = \"weights\")\n",
    "    b = tf.Variable(0.0, name = \"bias\")\n",
    "    z = tf.add(tf.matmul(X, w), b, name = \"z\")\n",
    "    return tf.maximum(z, 0 , name = \"relu\")\n",
    "\n",
    "relus = [relu(X) for i in range(5)]\n",
    "output = tf.add_n(relus, name = \"output\")\n"
   ]
  },
  {
   "cell_type": "code",
   "execution_count": 82,
   "metadata": {},
   "outputs": [],
   "source": [
    "graph = tf.get_default_graph()"
   ]
  },
  {
   "cell_type": "code",
   "execution_count": 95,
   "metadata": {},
   "outputs": [
    {
     "data": {
      "text/plain": [
       "[<tf.Variable 'theta:0' shape=(9, 1) dtype=float32_ref>,\n",
       " <tf.Variable 'weights1:0' shape=(3, 1) dtype=float32_ref>,\n",
       " <tf.Variable 'weights2:0' shape=(3, 1) dtype=float32_ref>,\n",
       " <tf.Variable 'bias1:0' shape=() dtype=float32_ref>,\n",
       " <tf.Variable 'bias2:0' shape=() dtype=float32_ref>,\n",
       " <tf.Variable 'weights:0' shape=(3, 1) dtype=float32_ref>,\n",
       " <tf.Variable 'bias:0' shape=() dtype=float32_ref>,\n",
       " <tf.Variable 'weights_1:0' shape=(3, 1) dtype=float32_ref>,\n",
       " <tf.Variable 'bias_1:0' shape=() dtype=float32_ref>,\n",
       " <tf.Variable 'weights_2:0' shape=(3, 1) dtype=float32_ref>,\n",
       " <tf.Variable 'bias_2:0' shape=() dtype=float32_ref>,\n",
       " <tf.Variable 'weights_3:0' shape=(3, 1) dtype=float32_ref>,\n",
       " <tf.Variable 'bias_3:0' shape=() dtype=float32_ref>,\n",
       " <tf.Variable 'weights_4:0' shape=(3, 1) dtype=float32_ref>,\n",
       " <tf.Variable 'bias_4:0' shape=() dtype=float32_ref>]"
      ]
     },
     "execution_count": 95,
     "metadata": {},
     "output_type": "execute_result"
    }
   ],
   "source": [
    "#观察节点\n",
    "graph.get_operations()\n",
    "#观察变量\n",
    "graph.get_collection('variables')"
   ]
  },
  {
   "cell_type": "code",
   "execution_count": 125,
   "metadata": {},
   "outputs": [],
   "source": [
    "output_summary = tf.summary.scalar(\"output\", output)\n",
    "init = tf.global_variables_initializer()\n",
    "with tf.Session() as sess:\n",
    "    sess.run(init)\n",
    "    summary_writer = tf.summary.FileWriter(\"/tmp/tf-log-1\", sess.graph)"
   ]
  },
  {
   "cell_type": "markdown",
   "metadata": {},
   "source": [
    "###### Sharing Variables"
   ]
  },
  {
   "cell_type": "code",
   "execution_count": 127,
   "metadata": {},
   "outputs": [],
   "source": [
    "#code-1\n",
    "# 问题当变量很多的时候共享传参变得困难\n",
    "def relu(X,threshold):\n",
    "    with tf.name_scope(\"relu\"):\n",
    "        w_shape = (int(X.get_shape()[1]), 1)\n",
    "        w = tf.Variable(tf.random_normal(w_shape), name = \"weights\")\n",
    "        b = tf.Variable(0.0, name = \"bias\")\n",
    "        z = tf.add(tf.matmul(X, w), b, name = \"z\")\n",
    "        return tf.maximum(z, threshold , name = \"relu\")\n",
    "\n",
    "threshold = tf.Variable(0.0,name=\"threshold\")\n",
    "#code-2\n",
    "#定义方法的全局变量\n",
    "def relu(X):\n",
    "     with tf.name_scope(\"relu\"):\n",
    "            if not hasattr(relu,\"threshold\"):\n",
    "                relu.threshold =  tf.Variable(0.0,name=\"threshold\")\n",
    "            w_shape = (int(X.get_shape()[1]), 1)\n",
    "            w = tf.Variable(tf.random_normal(w_shape), name = \"weights\")\n",
    "            b = tf.Variable(0.0, name = \"bias\")\n",
    "            z = tf.add(tf.matmul(X, w), b, name = \"z\")\n",
    "            return tf.maximum(z, threshold , name = \"relu\")\n",
    "        \n",
    "#code-3\n",
    "#定义tf变量,reuse控制是否重用\n",
    "def relu(X):\n",
    "     with tf.variable_scope(\"relu\",reuse=True): #使用并更改为重用，改成True后不能为False\n",
    "            threshold =  tf.get_variable(\"threshold\")\n",
    "            w_shape = (int(X.get_shape()[1]), 1)\n",
    "            w = tf.Variable(tf.random_normal(w_shape), name = \"weights\")\n",
    "            b = tf.Variable(0.0, name = \"bias\")\n",
    "            z = tf.add(tf.matmul(X, w), b, name = \"z\")\n",
    "            return tf.maximum(z, threshold , name = \"relu\")\n",
    "      \n",
    "X = tf.placeholder(tf.float32, shape = (None, n_features), name = \"X\")\n",
    "with tf.variable_scope(\"relu\"): #create the Variable\n",
    "    threshold =  tf.get_variable(\"threshold\",shape=(),initializer=tf.constant_initializer(0.0))\n",
    "relus = [relu(X) for i in range(5)]\n",
    "output = tf.add_n(relus, name = \"output\")\n",
    "   "
   ]
  },
  {
   "cell_type": "code",
   "execution_count": null,
   "metadata": {},
   "outputs": [],
   "source": []
  }
 ],
 "metadata": {
  "kernelspec": {
   "display_name": "Python [conda env:py36]",
   "language": "python",
   "name": "conda-env-py36-py"
  },
  "language_info": {
   "codemirror_mode": {
    "name": "ipython",
    "version": 3
   },
   "file_extension": ".py",
   "mimetype": "text/x-python",
   "name": "python",
   "nbconvert_exporter": "python",
   "pygments_lexer": "ipython3",
   "version": "3.6.5"
  }
 },
 "nbformat": 4,
 "nbformat_minor": 2
}
