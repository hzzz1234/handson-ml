{
 "cells": [
  {
   "cell_type": "code",
   "execution_count": 1,
   "metadata": {},
   "outputs": [],
   "source": [
    "import tensorflow as tf"
   ]
  },
  {
   "cell_type": "code",
   "execution_count": 3,
   "metadata": {},
   "outputs": [],
   "source": [
    "#code-3\n",
    "#定义tf变量,reuse控制是否重用\n",
    "n_features = 3\n",
    "def relu(X):\n",
    "     with tf.variable_scope(\"relu\",reuse=True): #使用并更改为重用，改成True后不能为False\n",
    "            threshold =  tf.get_variable(\"threshold\")\n",
    "            w_shape = (int(X.get_shape()[1]), 1)\n",
    "            w = tf.Variable(tf.random_normal(w_shape), name = \"weights\")\n",
    "            b = tf.Variable(0.0, name = \"bias\")\n",
    "            z = tf.add(tf.matmul(X, w), b, name = \"z\")\n",
    "            return tf.maximum(z, threshold , name = \"relu\")\n",
    "      \n",
    "X = tf.placeholder(tf.float32, shape = (None, n_features), name = \"X\")\n",
    "with tf.variable_scope(\"relu\"): #create the Variable\n",
    "    threshold =  tf.get_variable(\"threshold\",shape=(),initializer=tf.constant_initializer(0.0))\n",
    "relus = [relu(X) for i in range(5)]\n",
    "output = tf.add_n(relus, name = \"output\")"
   ]
  },
  {
   "cell_type": "code",
   "execution_count": 5,
   "metadata": {},
   "outputs": [],
   "source": [
    "with tf.Session() as sess:\n",
    "    sess.run( tf.global_variables_initializer())\n",
    "    summary_writer = tf.summary.FileWriter(\"/tmp/tf-log-1\", sess.graph)"
   ]
  },
  {
   "cell_type": "code",
   "execution_count": null,
   "metadata": {},
   "outputs": [],
   "source": []
  }
 ],
 "metadata": {
  "kernelspec": {
   "display_name": "Python [conda env:py36]",
   "language": "python",
   "name": "conda-env-py36-py"
  },
  "language_info": {
   "codemirror_mode": {
    "name": "ipython",
    "version": 3
   },
   "file_extension": ".py",
   "mimetype": "text/x-python",
   "name": "python",
   "nbconvert_exporter": "python",
   "pygments_lexer": "ipython3",
   "version": "3.6.5"
  }
 },
 "nbformat": 4,
 "nbformat_minor": 2
}
